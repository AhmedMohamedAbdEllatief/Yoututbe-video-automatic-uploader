{
 "cells": [
  {
   "cell_type": "code",
   "execution_count": 69,
   "metadata": {},
   "outputs": [],
   "source": [
    "from selenium.webdriver.chrome.options import Options\n",
    "from selenium.webdriver.common.by import By\n",
    "from selenium.webdriver.common.keys import Keys\n",
    "from selenium.webdriver.common.action_chains import ActionChains\n",
    "from selenium.webdriver.support.ui import WebDriverWait \n",
    "from selenium.webdriver.support import expected_conditions as EC\n",
    "import pandas as pd\n",
    "from selenium import webdriver\n",
    "import time\n",
    "from bs4 import BeautifulSoup\n",
    "import requests\n",
    "from urllib.request import urlopen\n",
    "import requests\n",
    "import os.path\n",
    "from os import path\n",
    "import random\n",
    "import requests\n",
    "from selenium import webdriver\n",
    "from selenium.common.exceptions import NoSuchElementException\n",
    "from webdriver_manager.chrome import ChromeDriverManager as CM\n",
    "import undetected_chromedriver as uc\n",
    "from selenium.webdriver.common.desired_capabilities import DesiredCapabilities\n",
    "from selenium.webdriver.firefox.options import Options\n",
    "from selenium.webdriver.support.ui import Select\n",
    "import datetime\n",
    "import os"
   ]
  },
  {
   "cell_type": "code",
   "execution_count": 70,
   "metadata": {},
   "outputs": [
    {
     "name": "stderr",
     "output_type": "stream",
     "text": [
      "<ipython-input-70-e3484e1125fe>:3: DeprecationWarning: firefox_profile has been deprecated, please use an Options object\n",
      "  profile = webdriver.FirefoxProfile('C:/Users/Ahmed/AppData/Roaming/Mozilla/Firefox/Profiles/lj4ewglg.default-release')\n",
      "<ipython-input-70-e3484e1125fe>:12: DeprecationWarning: executable_path has been deprecated, please pass in a Service object\n",
      "  driver = webdriver.Firefox(firefox_profile=profile,executable_path=r'D:\\geckodriver.exe', options=options,desired_capabilities=desired)\n",
      "<ipython-input-70-e3484e1125fe>:12: DeprecationWarning: capabilities and desired_capabilities have been deprecated, please pass in a Service object\n",
      "  driver = webdriver.Firefox(firefox_profile=profile,executable_path=r'D:\\geckodriver.exe', options=options,desired_capabilities=desired)\n",
      "<ipython-input-70-e3484e1125fe>:12: DeprecationWarning: firefox_profile has been deprecated, please pass in an Options object\n",
      "  driver = webdriver.Firefox(firefox_profile=profile,executable_path=r'D:\\geckodriver.exe', options=options,desired_capabilities=desired)\n"
     ]
    }
   ],
   "source": [
    "options = Options()\n",
    "# avoiding detection\n",
    "profile = webdriver.FirefoxProfile('C:/Users/Ahmed/AppData/Roaming/Mozilla/Firefox/Profiles/lj4ewglg.default-release')\n",
    "profile.set_preference(\"dom.webdriver.enabled\", False)\n",
    "profile.set_preference('useAutomationExtension', False)\n",
    "profile.update_preferences()\n",
    "desired = DesiredCapabilities.FIREFOX\n",
    "\n",
    "# Default User Profile\n",
    "options.add_argument(\"--profile-directory=Default\")\n",
    "options.binary_location = r'C:\\Program Files\\Mozilla Firefox\\firefox.exe'\n",
    "driver = webdriver.Firefox(firefox_profile=profile,executable_path=r'D:\\geckodriver.exe', options=options,desired_capabilities=desired)"
   ]
  },
  {
   "cell_type": "code",
   "execution_count": 71,
   "metadata": {},
   "outputs": [],
   "source": [
    "driver.get('https://www.youtube.com/')"
   ]
  },
  {
   "cell_type": "code",
   "execution_count": 72,
   "metadata": {},
   "outputs": [],
   "source": [
    "driver.get('https://accounts.google.com/v3/signin/identifier?dsh=S-502554087%3A1677971053060898&continue=https%3A%2F%2Fwww.youtube.com%2Fsignin%3Faction_handle_signin%3Dtrue%26app%3Ddesktop%26hl%3Den%26next%3Dhttps%253A%252F%252Fwww.youtube.com%252F%253FthemeRefresh%253D1&ec=65620&hl=en&passive=true&service=youtube&uilel=3&flowName=GlifWebSignIn&flowEntry=ServiceLogin&ifkv=AWnogHdXT2XveMG7AD613SFFGSCOY6MsA0qEnYSiD1lak-7TQUMIwh0VkAXL0jwnlK5LvsNr0O8y')"
   ]
  },
  {
   "cell_type": "code",
   "execution_count": 5,
   "metadata": {},
   "outputs": [],
   "source": [
    "table_list = []\n",
    "\n",
    "for filename in os.listdir():\n",
    "    if filename.endswith('.csv'):\n",
    "        table_list.append(filename)"
   ]
  },
  {
   "cell_type": "code",
   "execution_count": 6,
   "metadata": {},
   "outputs": [
    {
     "data": {
      "text/plain": [
       "['.zyi_k.csv',\n",
       " 'ashleycbarnett.csv',\n",
       " 'ben_alistor.csv',\n",
       " 'Book1.csv',\n",
       " 'brunobajrami.csv',\n",
       " 'hustlerslimit.csv',\n",
       " 'koroshfarazad.csv',\n",
       " 'mariawilkes.csv',\n",
       " 'milowilkinsonn.csv',\n",
       " 'monneycord.csv',\n",
       " 'realhannahchan.csv',\n",
       " 'rinmatheboss.csv',\n",
       " 'robertcroakofficial.csv',\n",
       " 'shawnryanshow.csv',\n",
       " 'simonsquibb.csv',\n",
       " 'svetlin.todd.csv',\n",
       " 'waytsuccess.csv',\n",
       " 'wealthation.csv',\n",
       " 'winningbusinesssecrets.csv',\n",
       " '_businessworks.csv']"
      ]
     },
     "execution_count": 6,
     "metadata": {},
     "output_type": "execute_result"
    }
   ],
   "source": [
    "table_list"
   ]
  },
  {
   "cell_type": "code",
   "execution_count": null,
   "metadata": {},
   "outputs": [],
   "source": []
  },
  {
   "cell_type": "code",
   "execution_count": 73,
   "metadata": {},
   "outputs": [],
   "source": [
    "data = pd.read_csv('shawnryanshow.csv')"
   ]
  },
  {
   "cell_type": "code",
   "execution_count": 74,
   "metadata": {},
   "outputs": [],
   "source": [
    "Starting_point = min(data['Video_id_list'])\n",
    "end_point = len(data['Video_id_list'])"
   ]
  },
  {
   "cell_type": "code",
   "execution_count": 75,
   "metadata": {},
   "outputs": [],
   "source": [
    "actions = ActionChains(driver)"
   ]
  },
  {
   "cell_type": "code",
   "execution_count": 78,
   "metadata": {},
   "outputs": [
    {
     "ename": "IndexError",
     "evalue": "list index out of range",
     "output_type": "error",
     "traceback": [
      "\u001b[1;31m---------------------------------------------------------------------------\u001b[0m",
      "\u001b[1;31mIndexError\u001b[0m                                Traceback (most recent call last)",
      "\u001b[1;32m<ipython-input-78-ff50c0237cc8>\u001b[0m in \u001b[0;36m<module>\u001b[1;34m\u001b[0m\n\u001b[0;32m    107\u001b[0m     \u001b[0mTime_choose\u001b[0m \u001b[1;33m=\u001b[0m \u001b[0mdriver\u001b[0m\u001b[1;33m.\u001b[0m\u001b[0mfind_elements\u001b[0m\u001b[1;33m(\u001b[0m\u001b[0mBy\u001b[0m\u001b[1;33m.\u001b[0m\u001b[0mXPATH\u001b[0m\u001b[1;33m,\u001b[0m \u001b[1;34m\"//tp-yt-paper-item[@class='tp-yt-paper-item style-scope ytcp-time-of-day-picker']\"\u001b[0m\u001b[1;33m)\u001b[0m\u001b[1;33m\u001b[0m\u001b[1;33m\u001b[0m\u001b[0m\n\u001b[0;32m    108\u001b[0m     \u001b[0mtime\u001b[0m\u001b[1;33m.\u001b[0m\u001b[0msleep\u001b[0m\u001b[1;33m(\u001b[0m\u001b[0mrandom\u001b[0m\u001b[1;33m.\u001b[0m\u001b[0mrandint\u001b[0m\u001b[1;33m(\u001b[0m\u001b[1;36m2\u001b[0m\u001b[1;33m,\u001b[0m\u001b[1;36m5\u001b[0m\u001b[1;33m)\u001b[0m\u001b[1;33m)\u001b[0m\u001b[1;33m\u001b[0m\u001b[1;33m\u001b[0m\u001b[0m\n\u001b[1;32m--> 109\u001b[1;33m     \u001b[0mTime_choose\u001b[0m\u001b[1;33m[\u001b[0m\u001b[0mHours_counter\u001b[0m\u001b[1;33m]\u001b[0m\u001b[1;33m.\u001b[0m\u001b[0mclick\u001b[0m\u001b[1;33m(\u001b[0m\u001b[1;33m)\u001b[0m\u001b[1;33m\u001b[0m\u001b[1;33m\u001b[0m\u001b[0m\n\u001b[0m\u001b[0;32m    110\u001b[0m     \u001b[0mHours_counter\u001b[0m\u001b[1;33m=\u001b[0m\u001b[0mHours_counter\u001b[0m\u001b[1;33m+\u001b[0m\u001b[1;36m20\u001b[0m\u001b[1;33m\u001b[0m\u001b[1;33m\u001b[0m\u001b[0m\n\u001b[0;32m    111\u001b[0m     \u001b[0mHours_update\u001b[0m \u001b[1;33m=\u001b[0m \u001b[0mHours_update\u001b[0m\u001b[1;33m+\u001b[0m\u001b[1;36m1\u001b[0m\u001b[1;33m\u001b[0m\u001b[1;33m\u001b[0m\u001b[0m\n",
      "\u001b[1;31mIndexError\u001b[0m: list index out of range"
     ]
    }
   ],
   "source": [
    "Day_counter = 2\n",
    "Hours_counter = 20\n",
    "Hours_update = 0\n",
    "for video_id in range(24,end_point):\n",
    "    driver.get('https://www.youtube.com/')\n",
    "    time.sleep(25)\n",
    "    Discrption_text = data[data['Video_id_list'] == video_id]['Video_disc']\n",
    "    WebDriverWait(driver, 20).until(EC.presence_of_element_located((By.XPATH, \"//div[@class='style-scope ytd-topbar-menu-button-renderer']\")))\n",
    "    Upload_button = driver.find_elements(By.XPATH, \"//div[@class='style-scope ytd-topbar-menu-button-renderer']\")\n",
    "    Upload_button[0].click()\n",
    "    WebDriverWait(driver, 20).until(EC.presence_of_element_located((By.XPATH, \"//div[@id='primary-text-container']\")))\n",
    "    Upload_button2 = driver.find_element(By.XPATH, \"//div[@id='primary-text-container']\")\n",
    "    Upload_button2.click()\n",
    "    time.sleep(random.randint(2,5))\n",
    "    Channel_internal_link = \"shawnryanshow\"\n",
    "    Video_full_link = 'C:\\\\Users\\\\Ahmed\\\\channels project\\\\videos\\\\Business\\\\'+Channel_internal_link+\"\\\\\"+str(video_id)+'.mp4'\n",
    "    time.sleep(20)\n",
    "    WebDriverWait(driver, 20).until(EC.presence_of_element_located((By.XPATH,\"//input[@type='file']\")))\n",
    "    Drag_drop = driver.find_element(By.XPATH,\"//input[@type='file']\")\n",
    "    Drag_drop.send_keys(Video_full_link)\n",
    "    time.sleep(random.randint(19,20))\n",
    "    WebDriverWait(driver, 20).until(EC.presence_of_element_located((By.XPATH,\"//div[@id='textbox']\")))\n",
    "    Disc_text = driver.find_elements(By.XPATH, \"//div[@id='textbox']\")\n",
    "    time.sleep(random.randint(2,5))\n",
    "    try:\n",
    "        Disc = Discrption_text.tolist()[0]\n",
    "        Title_text = Disc[:95]\n",
    "        \n",
    "    except:\n",
    "        Disc = \"#shorts @Shorts .\"\n",
    "        Title_text = \"#shorts @Shorts .\"\n",
    "    Title_f = Disc_text[0]    \n",
    "    Title_f.send_keys(Title_text)\n",
    "    time.sleep(random.randint(2,5))\n",
    "    Disc_f = Disc_text[1]\n",
    "    Disc_f.send_keys(Disc+\"#shorts #Shorts\"+\" .\")\n",
    "    time.sleep(random.randint(2,5))\n",
    "    WebDriverWait(driver, 20).until(EC.presence_of_element_located((By.XPATH, \"//div[@id='radioLabel']\")))\n",
    "    ForKids = driver.find_elements(By.XPATH, \"//div[@id='radioLabel']\")\n",
    "    time.sleep(random.randint(2,5))\n",
    "    ForKids[1].click()\n",
    "    time.sleep(random.randint(2,5))\n",
    "    WebDriverWait(driver, 20).until(EC.presence_of_element_located((By.XPATH, \"//ytcp-button[@id='toggle-button']\")))\n",
    "    ShowMore = driver.find_elements(By.XPATH, \"//ytcp-button[@id='toggle-button']\")\n",
    "    time.sleep(random.randint(2,5))\n",
    "    ShowMore[0].click()\n",
    "    time.sleep(random.randint(5,10))\n",
    "    WebDriverWait(driver, 20).until(EC.presence_of_element_located((By.XPATH, \"//span[@class='dropdown-trigger-text style-scope ytcp-text-dropdown-trigger']\")))\n",
    "    Lang = driver.find_elements(By.XPATH, \"//span[@class='dropdown-trigger-text style-scope ytcp-text-dropdown-trigger']\")\n",
    "    time.sleep(random.randint(2,5))\n",
    "    Lang[4].click()\n",
    "    time.sleep(random.randint(2,5))\n",
    "    WebDriverWait(driver, 20).until(EC.presence_of_element_located((By.XPATH, \"//yt-formatted-string[@class='item-text style-scope ytcp-text-menu']\")))\n",
    "    langs = driver.find_elements(By.XPATH, \"//yt-formatted-string[@class='item-text style-scope ytcp-text-menu']\")\n",
    "    time.sleep(random.randint(2,5))\n",
    "    choosen_lang = langs[50]\n",
    "    langs[50].click()\n",
    "    time.sleep(random.randint(2,5))\n",
    "    WebDriverWait(driver, 20).until(EC.presence_of_element_located((By.XPATH, \"//input[@class='style-scope ytcp-form-autocomplete']\")))\n",
    "    location = driver.find_elements(By.XPATH, \"//input[@class='style-scope ytcp-form-autocomplete']\")\n",
    "    time.sleep(random.randint(2,5))\n",
    "    location[0].send_keys('New York')\n",
    "    time.sleep(random.randint(2,5))\n",
    "    WebDriverWait(driver, 20).until(EC.presence_of_element_located((By.XPATH, \"//span[@class='style-scope yt-formatted-string']\")))\n",
    "    location0 = driver.find_elements(By.XPATH, \"//span[@class='style-scope yt-formatted-string']\")\n",
    "    time.sleep(random.randint(2,5))\n",
    "    location0[1].click()\n",
    "    time.sleep(10)\n",
    "    WebDriverWait(driver, 20).until(EC.presence_of_element_located((By.XPATH, \"//ytcp-button[@id='next-button']\")))\n",
    "    Next = driver.find_elements(By.XPATH, \"//ytcp-button[@id='next-button']\")\n",
    "    time.sleep(random.randint(2,5))\n",
    "    WebDriverWait(driver, 20).until(EC.presence_of_element_located((By.XPATH, \"//ytcp-button[@id='next-button']\")))\n",
    "    Next[0].click()\n",
    "    time.sleep(10)\n",
    "    WebDriverWait(driver, 20).until(EC.presence_of_element_located((By.XPATH, \"//ytcp-button[@id='next-button']\")))\n",
    "    Next[0].click()\n",
    "    time.sleep(10)\n",
    "    WebDriverWait(driver, 20).until(EC.presence_of_element_located((By.XPATH, \"//ytcp-button[@id='next-button']\")))\n",
    "    Next[0].click()\n",
    "    time.sleep(10)\n",
    "    WebDriverWait(driver, 20).until(EC.presence_of_element_located((By.XPATH, \"//div[@id='offRadio']\")))\n",
    "    Schedule = driver.find_elements(By.XPATH, \"//div[@id='offRadio']\")\n",
    "    time.sleep(random.randint(2,5))\n",
    "    Secheduler_loc = Schedule[4]\n",
    "    Schedule[4].click()\n",
    "    time.sleep(random.randint(2,5))\n",
    "    WebDriverWait(driver, 20).until(EC.presence_of_element_located((By.XPATH, \"//span[@class='dropdown-trigger-text style-scope ytcp-text-dropdown-trigger']\")))\n",
    "    Day = driver.find_elements(By.XPATH, \"//span[@class='dropdown-trigger-text style-scope ytcp-text-dropdown-trigger']\")\n",
    "    time.sleep(random.randint(2,5))\n",
    "    if Hours_update == 5:\n",
    "        Hours_update = 0\n",
    "        Day_counter = Day_counter+1\n",
    "        Hours_counter = 0\n",
    "    Day[3].click()\n",
    "    time.sleep(random.randint(2,5))\n",
    "    WebDriverWait(driver, 20).until(EC.presence_of_element_located((By.XPATH,  \"//span[@class='calendar-day   style-scope ytcp-scrollable-calendar style-scope ytcp-scrollable-calendar']\")))\n",
    "    Day_choose = driver.find_elements(By.XPATH, \"//span[@class='calendar-day   style-scope ytcp-scrollable-calendar style-scope ytcp-scrollable-calendar']\")\n",
    "    time.sleep(random.randint(2,5))\n",
    "    Day_choose[Day_counter].click()\n",
    "    time.sleep(random.randint(2,5))\n",
    "    WebDriverWait(driver, 20).until(EC.presence_of_element_located((By.XPATH,  \"//input[@class='style-scope tp-yt-paper-input']\")))\n",
    "    Time = driver.find_elements(By.XPATH, \"//input[@class='style-scope tp-yt-paper-input']\")\n",
    "    time.sleep(random.randint(2,5))\n",
    "    Time[0].click()\n",
    "    time.sleep(random.randint(2,5))\n",
    "    WebDriverWait(driver, 20).until(EC.presence_of_element_located((By.XPATH,\"//tp-yt-paper-item[@class='tp-yt-paper-item style-scope ytcp-time-of-day-picker']\")))\n",
    "    Time_choose = driver.find_elements(By.XPATH, \"//tp-yt-paper-item[@class='tp-yt-paper-item style-scope ytcp-time-of-day-picker']\")\n",
    "    time.sleep(random.randint(2,5))\n",
    "    Time_choose[Hours_counter].click()\n",
    "    Hours_counter=Hours_counter+20\n",
    "    Hours_update = Hours_update+1\n",
    "    time.sleep(random.randint(2,5))\n",
    "    WebDriverWait(driver, 20).until(EC.presence_of_element_located((By.XPATH,\"//ytcp-button[@id='done-button']\")))\n",
    "    Schedule_order = driver.find_elements(By.XPATH, \"//ytcp-button[@id='done-button']\")\n",
    "    time.sleep(random.randint(2,5))\n",
    "    Schedule_order[0].click()\n",
    "    time.sleep(20)"
   ]
  },
  {
   "cell_type": "code",
   "execution_count": null,
   "metadata": {},
   "outputs": [],
   "source": []
  }
 ],
 "metadata": {
  "kernelspec": {
   "display_name": "Python 3",
   "language": "python",
   "name": "python3"
  },
  "language_info": {
   "codemirror_mode": {
    "name": "ipython",
    "version": 3
   },
   "file_extension": ".py",
   "mimetype": "text/x-python",
   "name": "python",
   "nbconvert_exporter": "python",
   "pygments_lexer": "ipython3",
   "version": "3.8.3"
  }
 },
 "nbformat": 4,
 "nbformat_minor": 4
}
